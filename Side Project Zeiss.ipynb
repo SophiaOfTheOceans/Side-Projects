{
 "cells": [
  {
   "cell_type": "markdown",
   "metadata": {},
   "source": [
    "# Introduction"
   ]
  },
  {
   "cell_type": "markdown",
   "metadata": {},
   "source": [
    "ZEISS is a German-based company specializing in the fields of optics and optoelectronics. It was started in 1846 by Carl Zeiss, and currently, it has 12,500 employees domestically and 30,000 employees internationally. In 2017, the company's annual revenue totaled more than 5.8 billion euros in its four segments: Industrial Quality & Research, Medical Technology, Consumer Markets, and Semiconductor Manufacturing Technology.\n",
    "\n",
    "Information about ZEISS's stocks were accessed through Quandl, and the resulting dataset contains the following columns:\n",
    "* **'Open'** - The price at which a stock is first traded during a day (Opening Price).\n",
    "* **'High'** - The highest intra-day price for which a stock is traded.\n",
    "* **'Low'** - The lowest intra-day price for which a stock is traded.\n",
    "* **'Close'** - The price at which a stock is last traded during a day (Closing Price).\n",
    "* **'Change'** - The difference between the opening and closing prices in a day.\n",
    "* **'Traded Volume'** - The number of stocks traded in one day.\n",
    "* **'Turnover'** - Also known as the \"market cap\", which is the price of one stock multiplied by the number of stocks circulating in the market.\n",
    "\n",
    "In this project, I will do the following:\n",
    "* **Access the data via the Quandl API**\n",
    "* **Clean and fill in missing values**\n",
    "* **Create a dashboard of the Closing Price, Change (Inter- and Intra-daily), Traded Volume, and Turnover using Bokeh.**\n",
    "* **Estimate future values using Linear Regression.**"
   ]
  },
  {
   "cell_type": "code",
   "execution_count": 1,
   "metadata": {},
   "outputs": [
    {
     "name": "stderr",
     "output_type": "stream",
     "text": [
      "ERROR:fbprophet:Importing plotly failed. Interactive plots will not work.\n"
     ]
    }
   ],
   "source": [
    "#Import the necessary modules\n",
    "import requests\n",
    "import pandas as pd\n",
    "from collections import defaultdict\n",
    "import matplotlib.pyplot as plt\n",
    "import bokeh.io\n",
    "import seaborn as sns\n",
    "import fbprophet\n",
    "from sklearn import metrics\n",
    "import numpy as np"
   ]
  },
  {
   "cell_type": "markdown",
   "metadata": {},
   "source": [
    "# 1) Importing the data"
   ]
  },
  {
   "cell_type": "code",
   "execution_count": 2,
   "metadata": {},
   "outputs": [],
   "source": [
    "# Pull out information using the API_Key.\n",
    "API_KEY = 'Ev3xeqQtKoSJk2z_t3We'\n",
    "url = 'https://www.quandl.com/api/v3/datasets/FSE/AFX_X/data.json?api_key=' + API_KEY\n",
    "r = requests.get(url)\n",
    "json = r.json()"
   ]
  },
  {
   "cell_type": "code",
   "execution_count": 3,
   "metadata": {},
   "outputs": [],
   "source": [
    "#Create dataframe using the json.\n",
    "d = defaultdict(list)\n",
    "columns = json['dataset_data']['column_names']\n",
    "\n",
    "for x in json['dataset_data']['data']:\n",
    "    for i in range(len(columns)):\n",
    "        d[columns[i]].append(x[i])\n",
    "\n",
    "dataframe = dict(d)\n",
    "\n",
    "data = pd.DataFrame(dataframe)"
   ]
  },
  {
   "cell_type": "code",
   "execution_count": 4,
   "metadata": {},
   "outputs": [
    {
     "data": {
      "text/html": [
       "<div>\n",
       "<style scoped>\n",
       "    .dataframe tbody tr th:only-of-type {\n",
       "        vertical-align: middle;\n",
       "    }\n",
       "\n",
       "    .dataframe tbody tr th {\n",
       "        vertical-align: top;\n",
       "    }\n",
       "\n",
       "    .dataframe thead th {\n",
       "        text-align: right;\n",
       "    }\n",
       "</style>\n",
       "<table border=\"1\" class=\"dataframe\">\n",
       "  <thead>\n",
       "    <tr style=\"text-align: right;\">\n",
       "      <th></th>\n",
       "      <th>Date</th>\n",
       "      <th>Open</th>\n",
       "      <th>High</th>\n",
       "      <th>Low</th>\n",
       "      <th>Close</th>\n",
       "      <th>Change</th>\n",
       "      <th>Traded Volume</th>\n",
       "      <th>Turnover</th>\n",
       "      <th>Last Price of the Day</th>\n",
       "      <th>Daily Traded Units</th>\n",
       "      <th>Daily Turnover</th>\n",
       "    </tr>\n",
       "  </thead>\n",
       "  <tbody>\n",
       "    <tr>\n",
       "      <th>0</th>\n",
       "      <td>2019-08-12</td>\n",
       "      <td>100.00</td>\n",
       "      <td>101.60</td>\n",
       "      <td>98.20</td>\n",
       "      <td>98.95</td>\n",
       "      <td>NaN</td>\n",
       "      <td>111146.0</td>\n",
       "      <td>11031779.0</td>\n",
       "      <td>None</td>\n",
       "      <td>None</td>\n",
       "      <td>NaN</td>\n",
       "    </tr>\n",
       "    <tr>\n",
       "      <th>1</th>\n",
       "      <td>2019-08-09</td>\n",
       "      <td>99.20</td>\n",
       "      <td>104.30</td>\n",
       "      <td>94.40</td>\n",
       "      <td>99.05</td>\n",
       "      <td>NaN</td>\n",
       "      <td>217386.0</td>\n",
       "      <td>21511178.0</td>\n",
       "      <td>None</td>\n",
       "      <td>None</td>\n",
       "      <td>NaN</td>\n",
       "    </tr>\n",
       "    <tr>\n",
       "      <th>2</th>\n",
       "      <td>2019-08-08</td>\n",
       "      <td>95.35</td>\n",
       "      <td>95.35</td>\n",
       "      <td>94.20</td>\n",
       "      <td>95.10</td>\n",
       "      <td>NaN</td>\n",
       "      <td>110482.0</td>\n",
       "      <td>10474803.0</td>\n",
       "      <td>None</td>\n",
       "      <td>None</td>\n",
       "      <td>NaN</td>\n",
       "    </tr>\n",
       "    <tr>\n",
       "      <th>3</th>\n",
       "      <td>2019-08-07</td>\n",
       "      <td>94.15</td>\n",
       "      <td>95.05</td>\n",
       "      <td>93.05</td>\n",
       "      <td>93.90</td>\n",
       "      <td>NaN</td>\n",
       "      <td>119157.0</td>\n",
       "      <td>11200026.0</td>\n",
       "      <td>None</td>\n",
       "      <td>None</td>\n",
       "      <td>NaN</td>\n",
       "    </tr>\n",
       "    <tr>\n",
       "      <th>4</th>\n",
       "      <td>2019-08-06</td>\n",
       "      <td>93.65</td>\n",
       "      <td>95.15</td>\n",
       "      <td>93.25</td>\n",
       "      <td>93.25</td>\n",
       "      <td>NaN</td>\n",
       "      <td>119714.0</td>\n",
       "      <td>11218618.0</td>\n",
       "      <td>None</td>\n",
       "      <td>None</td>\n",
       "      <td>NaN</td>\n",
       "    </tr>\n",
       "  </tbody>\n",
       "</table>\n",
       "</div>"
      ],
      "text/plain": [
       "         Date    Open    High    Low  Close  Change  Traded Volume  \\\n",
       "0  2019-08-12  100.00  101.60  98.20  98.95     NaN       111146.0   \n",
       "1  2019-08-09   99.20  104.30  94.40  99.05     NaN       217386.0   \n",
       "2  2019-08-08   95.35   95.35  94.20  95.10     NaN       110482.0   \n",
       "3  2019-08-07   94.15   95.05  93.05  93.90     NaN       119157.0   \n",
       "4  2019-08-06   93.65   95.15  93.25  93.25     NaN       119714.0   \n",
       "\n",
       "     Turnover Last Price of the Day Daily Traded Units  Daily Turnover  \n",
       "0  11031779.0                  None               None             NaN  \n",
       "1  21511178.0                  None               None             NaN  \n",
       "2  10474803.0                  None               None             NaN  \n",
       "3  11200026.0                  None               None             NaN  \n",
       "4  11218618.0                  None               None             NaN  "
      ]
     },
     "execution_count": 4,
     "metadata": {},
     "output_type": "execute_result"
    }
   ],
   "source": [
    "#Examine the data\n",
    "data.head()"
   ]
  },
  {
   "cell_type": "code",
   "execution_count": 5,
   "metadata": {},
   "outputs": [
    {
     "data": {
      "text/html": [
       "<div>\n",
       "<style scoped>\n",
       "    .dataframe tbody tr th:only-of-type {\n",
       "        vertical-align: middle;\n",
       "    }\n",
       "\n",
       "    .dataframe tbody tr th {\n",
       "        vertical-align: top;\n",
       "    }\n",
       "\n",
       "    .dataframe thead th {\n",
       "        text-align: right;\n",
       "    }\n",
       "</style>\n",
       "<table border=\"1\" class=\"dataframe\">\n",
       "  <thead>\n",
       "    <tr style=\"text-align: right;\">\n",
       "      <th></th>\n",
       "      <th>Date</th>\n",
       "      <th>Open</th>\n",
       "      <th>High</th>\n",
       "      <th>Low</th>\n",
       "      <th>Close</th>\n",
       "      <th>Change</th>\n",
       "      <th>Traded Volume</th>\n",
       "      <th>Turnover</th>\n",
       "      <th>Last Price of the Day</th>\n",
       "      <th>Daily Traded Units</th>\n",
       "      <th>Daily Turnover</th>\n",
       "    </tr>\n",
       "  </thead>\n",
       "  <tbody>\n",
       "    <tr>\n",
       "      <th>4932</th>\n",
       "      <td>2000-06-13</td>\n",
       "      <td>NaN</td>\n",
       "      <td>NaN</td>\n",
       "      <td>NaN</td>\n",
       "      <td>45.0</td>\n",
       "      <td>NaN</td>\n",
       "      <td>0.0</td>\n",
       "      <td>NaN</td>\n",
       "      <td>None</td>\n",
       "      <td>None</td>\n",
       "      <td>0.0</td>\n",
       "    </tr>\n",
       "    <tr>\n",
       "      <th>4933</th>\n",
       "      <td>2000-06-12</td>\n",
       "      <td>NaN</td>\n",
       "      <td>NaN</td>\n",
       "      <td>NaN</td>\n",
       "      <td>45.0</td>\n",
       "      <td>NaN</td>\n",
       "      <td>0.0</td>\n",
       "      <td>NaN</td>\n",
       "      <td>None</td>\n",
       "      <td>None</td>\n",
       "      <td>0.0</td>\n",
       "    </tr>\n",
       "    <tr>\n",
       "      <th>4934</th>\n",
       "      <td>2000-06-09</td>\n",
       "      <td>NaN</td>\n",
       "      <td>NaN</td>\n",
       "      <td>NaN</td>\n",
       "      <td>45.0</td>\n",
       "      <td>NaN</td>\n",
       "      <td>0.0</td>\n",
       "      <td>NaN</td>\n",
       "      <td>None</td>\n",
       "      <td>None</td>\n",
       "      <td>0.0</td>\n",
       "    </tr>\n",
       "    <tr>\n",
       "      <th>4935</th>\n",
       "      <td>2000-06-08</td>\n",
       "      <td>NaN</td>\n",
       "      <td>NaN</td>\n",
       "      <td>NaN</td>\n",
       "      <td>38.0</td>\n",
       "      <td>NaN</td>\n",
       "      <td>0.0</td>\n",
       "      <td>NaN</td>\n",
       "      <td>None</td>\n",
       "      <td>None</td>\n",
       "      <td>0.0</td>\n",
       "    </tr>\n",
       "    <tr>\n",
       "      <th>4936</th>\n",
       "      <td>2000-06-07</td>\n",
       "      <td>NaN</td>\n",
       "      <td>NaN</td>\n",
       "      <td>NaN</td>\n",
       "      <td>38.0</td>\n",
       "      <td>NaN</td>\n",
       "      <td>0.0</td>\n",
       "      <td>NaN</td>\n",
       "      <td>None</td>\n",
       "      <td>None</td>\n",
       "      <td>0.0</td>\n",
       "    </tr>\n",
       "  </tbody>\n",
       "</table>\n",
       "</div>"
      ],
      "text/plain": [
       "            Date  Open  High  Low  Close  Change  Traded Volume  Turnover  \\\n",
       "4932  2000-06-13   NaN   NaN  NaN   45.0     NaN            0.0       NaN   \n",
       "4933  2000-06-12   NaN   NaN  NaN   45.0     NaN            0.0       NaN   \n",
       "4934  2000-06-09   NaN   NaN  NaN   45.0     NaN            0.0       NaN   \n",
       "4935  2000-06-08   NaN   NaN  NaN   38.0     NaN            0.0       NaN   \n",
       "4936  2000-06-07   NaN   NaN  NaN   38.0     NaN            0.0       NaN   \n",
       "\n",
       "     Last Price of the Day Daily Traded Units  Daily Turnover  \n",
       "4932                  None               None             0.0  \n",
       "4933                  None               None             0.0  \n",
       "4934                  None               None             0.0  \n",
       "4935                  None               None             0.0  \n",
       "4936                  None               None             0.0  "
      ]
     },
     "execution_count": 5,
     "metadata": {},
     "output_type": "execute_result"
    }
   ],
   "source": [
    "data.tail()"
   ]
  },
  {
   "cell_type": "code",
   "execution_count": 6,
   "metadata": {},
   "outputs": [
    {
     "name": "stdout",
     "output_type": "stream",
     "text": [
      "<class 'pandas.core.frame.DataFrame'>\n",
      "RangeIndex: 4937 entries, 0 to 4936\n",
      "Data columns (total 11 columns):\n",
      "Date                     4937 non-null object\n",
      "Open                     4205 non-null float64\n",
      "High                     4536 non-null float64\n",
      "Low                      4536 non-null float64\n",
      "Close                    4937 non-null float64\n",
      "Change                   9 non-null float64\n",
      "Traded Volume            4891 non-null float64\n",
      "Turnover                 3582 non-null float64\n",
      "Last Price of the Day    0 non-null object\n",
      "Daily Traded Units       0 non-null object\n",
      "Daily Turnover           1309 non-null float64\n",
      "dtypes: float64(8), object(3)\n",
      "memory usage: 424.4+ KB\n"
     ]
    }
   ],
   "source": [
    "data.info()"
   ]
  },
  {
   "cell_type": "markdown",
   "metadata": {},
   "source": [
    "From info(), I see several issues that would need to be addressed during the data cleaning step:\n",
    "* Two blank columns (Last Price of the Day and Daily Traded Units)\n",
    "* Change and Daily Turnover have a lot of missing values. Traded Volume and Turnover don't have as much of these, but they need to be addressed also.\n",
    "* We don't need Open, High, and Low columns, so we'll delete them."
   ]
  },
  {
   "cell_type": "code",
   "execution_count": 7,
   "metadata": {},
   "outputs": [
    {
     "data": {
      "text/html": [
       "<div>\n",
       "<style scoped>\n",
       "    .dataframe tbody tr th:only-of-type {\n",
       "        vertical-align: middle;\n",
       "    }\n",
       "\n",
       "    .dataframe tbody tr th {\n",
       "        vertical-align: top;\n",
       "    }\n",
       "\n",
       "    .dataframe thead th {\n",
       "        text-align: right;\n",
       "    }\n",
       "</style>\n",
       "<table border=\"1\" class=\"dataframe\">\n",
       "  <thead>\n",
       "    <tr style=\"text-align: right;\">\n",
       "      <th></th>\n",
       "      <th>Open</th>\n",
       "      <th>High</th>\n",
       "      <th>Low</th>\n",
       "      <th>Close</th>\n",
       "      <th>Change</th>\n",
       "      <th>Traded Volume</th>\n",
       "      <th>Turnover</th>\n",
       "      <th>Daily Turnover</th>\n",
       "    </tr>\n",
       "  </thead>\n",
       "  <tbody>\n",
       "    <tr>\n",
       "      <th>count</th>\n",
       "      <td>4205.000000</td>\n",
       "      <td>4536.000000</td>\n",
       "      <td>4536.000000</td>\n",
       "      <td>4937.000000</td>\n",
       "      <td>9.000000</td>\n",
       "      <td>4.891000e+03</td>\n",
       "      <td>3.582000e+03</td>\n",
       "      <td>1309.0</td>\n",
       "    </tr>\n",
       "    <tr>\n",
       "      <th>mean</th>\n",
       "      <td>19.288821</td>\n",
       "      <td>22.864986</td>\n",
       "      <td>22.317997</td>\n",
       "      <td>22.590223</td>\n",
       "      <td>-0.008889</td>\n",
       "      <td>5.283628e+04</td>\n",
       "      <td>2.107757e+06</td>\n",
       "      <td>0.0</td>\n",
       "    </tr>\n",
       "    <tr>\n",
       "      <th>std</th>\n",
       "      <td>13.178175</td>\n",
       "      <td>17.815117</td>\n",
       "      <td>17.414915</td>\n",
       "      <td>17.187561</td>\n",
       "      <td>0.285633</td>\n",
       "      <td>7.565604e+04</td>\n",
       "      <td>5.330793e+06</td>\n",
       "      <td>0.0</td>\n",
       "    </tr>\n",
       "    <tr>\n",
       "      <th>min</th>\n",
       "      <td>4.200000</td>\n",
       "      <td>4.300000</td>\n",
       "      <td>4.050000</td>\n",
       "      <td>4.070000</td>\n",
       "      <td>-0.440000</td>\n",
       "      <td>0.000000e+00</td>\n",
       "      <td>1.980000e+03</td>\n",
       "      <td>0.0</td>\n",
       "    </tr>\n",
       "    <tr>\n",
       "      <th>25%</th>\n",
       "      <td>11.050000</td>\n",
       "      <td>11.410000</td>\n",
       "      <td>11.130750</td>\n",
       "      <td>11.360000</td>\n",
       "      <td>-0.120000</td>\n",
       "      <td>0.000000e+00</td>\n",
       "      <td>5.753455e+05</td>\n",
       "      <td>0.0</td>\n",
       "    </tr>\n",
       "    <tr>\n",
       "      <th>50%</th>\n",
       "      <td>15.560000</td>\n",
       "      <td>16.430000</td>\n",
       "      <td>16.010000</td>\n",
       "      <td>16.400000</td>\n",
       "      <td>-0.040000</td>\n",
       "      <td>3.897600e+04</td>\n",
       "      <td>1.039954e+06</td>\n",
       "      <td>0.0</td>\n",
       "    </tr>\n",
       "    <tr>\n",
       "      <th>75%</th>\n",
       "      <td>22.880000</td>\n",
       "      <td>24.567500</td>\n",
       "      <td>24.072500</td>\n",
       "      <td>24.930000</td>\n",
       "      <td>0.150000</td>\n",
       "      <td>7.275650e+04</td>\n",
       "      <td>2.019732e+06</td>\n",
       "      <td>0.0</td>\n",
       "    </tr>\n",
       "    <tr>\n",
       "      <th>max</th>\n",
       "      <td>100.300000</td>\n",
       "      <td>104.300000</td>\n",
       "      <td>99.300000</td>\n",
       "      <td>100.500000</td>\n",
       "      <td>0.420000</td>\n",
       "      <td>2.957391e+06</td>\n",
       "      <td>2.584535e+08</td>\n",
       "      <td>0.0</td>\n",
       "    </tr>\n",
       "  </tbody>\n",
       "</table>\n",
       "</div>"
      ],
      "text/plain": [
       "              Open         High          Low        Close    Change  \\\n",
       "count  4205.000000  4536.000000  4536.000000  4937.000000  9.000000   \n",
       "mean     19.288821    22.864986    22.317997    22.590223 -0.008889   \n",
       "std      13.178175    17.815117    17.414915    17.187561  0.285633   \n",
       "min       4.200000     4.300000     4.050000     4.070000 -0.440000   \n",
       "25%      11.050000    11.410000    11.130750    11.360000 -0.120000   \n",
       "50%      15.560000    16.430000    16.010000    16.400000 -0.040000   \n",
       "75%      22.880000    24.567500    24.072500    24.930000  0.150000   \n",
       "max     100.300000   104.300000    99.300000   100.500000  0.420000   \n",
       "\n",
       "       Traded Volume      Turnover  Daily Turnover  \n",
       "count   4.891000e+03  3.582000e+03          1309.0  \n",
       "mean    5.283628e+04  2.107757e+06             0.0  \n",
       "std     7.565604e+04  5.330793e+06             0.0  \n",
       "min     0.000000e+00  1.980000e+03             0.0  \n",
       "25%     0.000000e+00  5.753455e+05             0.0  \n",
       "50%     3.897600e+04  1.039954e+06             0.0  \n",
       "75%     7.275650e+04  2.019732e+06             0.0  \n",
       "max     2.957391e+06  2.584535e+08             0.0  "
      ]
     },
     "execution_count": 7,
     "metadata": {},
     "output_type": "execute_result"
    }
   ],
   "source": [
    "data.describe()"
   ]
  },
  {
   "cell_type": "markdown",
   "metadata": {},
   "source": [
    "Here I see some more issues that need attention:\n",
    "* Traded Volume and Turnover columns have a maximum value that approximately 100x the 75th percentile, suggesting an outlier.\n",
    "* For the closing price, the max value is around 4x the 75th percentile.\n",
    "* Daily Turnover appears to be entirely consisted of 0s."
   ]
  },
  {
   "cell_type": "markdown",
   "metadata": {},
   "source": [
    "# 2) Cleaning the data"
   ]
  },
  {
   "cell_type": "markdown",
   "metadata": {},
   "source": [
    "### Converting Data column to datetime format and set as index."
   ]
  },
  {
   "cell_type": "code",
   "execution_count": 8,
   "metadata": {},
   "outputs": [
    {
     "data": {
      "text/html": [
       "<div>\n",
       "<style scoped>\n",
       "    .dataframe tbody tr th:only-of-type {\n",
       "        vertical-align: middle;\n",
       "    }\n",
       "\n",
       "    .dataframe tbody tr th {\n",
       "        vertical-align: top;\n",
       "    }\n",
       "\n",
       "    .dataframe thead th {\n",
       "        text-align: right;\n",
       "    }\n",
       "</style>\n",
       "<table border=\"1\" class=\"dataframe\">\n",
       "  <thead>\n",
       "    <tr style=\"text-align: right;\">\n",
       "      <th></th>\n",
       "      <th>Open</th>\n",
       "      <th>High</th>\n",
       "      <th>Low</th>\n",
       "      <th>Close</th>\n",
       "      <th>Change</th>\n",
       "      <th>Traded Volume</th>\n",
       "      <th>Turnover</th>\n",
       "      <th>Last Price of the Day</th>\n",
       "      <th>Daily Traded Units</th>\n",
       "      <th>Daily Turnover</th>\n",
       "    </tr>\n",
       "    <tr>\n",
       "      <th>Date</th>\n",
       "      <th></th>\n",
       "      <th></th>\n",
       "      <th></th>\n",
       "      <th></th>\n",
       "      <th></th>\n",
       "      <th></th>\n",
       "      <th></th>\n",
       "      <th></th>\n",
       "      <th></th>\n",
       "      <th></th>\n",
       "    </tr>\n",
       "  </thead>\n",
       "  <tbody>\n",
       "    <tr>\n",
       "      <th>2019-08-12</th>\n",
       "      <td>100.00</td>\n",
       "      <td>101.60</td>\n",
       "      <td>98.20</td>\n",
       "      <td>98.95</td>\n",
       "      <td>NaN</td>\n",
       "      <td>111146.0</td>\n",
       "      <td>11031779.0</td>\n",
       "      <td>None</td>\n",
       "      <td>None</td>\n",
       "      <td>NaN</td>\n",
       "    </tr>\n",
       "    <tr>\n",
       "      <th>2019-08-09</th>\n",
       "      <td>99.20</td>\n",
       "      <td>104.30</td>\n",
       "      <td>94.40</td>\n",
       "      <td>99.05</td>\n",
       "      <td>NaN</td>\n",
       "      <td>217386.0</td>\n",
       "      <td>21511178.0</td>\n",
       "      <td>None</td>\n",
       "      <td>None</td>\n",
       "      <td>NaN</td>\n",
       "    </tr>\n",
       "    <tr>\n",
       "      <th>2019-08-08</th>\n",
       "      <td>95.35</td>\n",
       "      <td>95.35</td>\n",
       "      <td>94.20</td>\n",
       "      <td>95.10</td>\n",
       "      <td>NaN</td>\n",
       "      <td>110482.0</td>\n",
       "      <td>10474803.0</td>\n",
       "      <td>None</td>\n",
       "      <td>None</td>\n",
       "      <td>NaN</td>\n",
       "    </tr>\n",
       "    <tr>\n",
       "      <th>2019-08-07</th>\n",
       "      <td>94.15</td>\n",
       "      <td>95.05</td>\n",
       "      <td>93.05</td>\n",
       "      <td>93.90</td>\n",
       "      <td>NaN</td>\n",
       "      <td>119157.0</td>\n",
       "      <td>11200026.0</td>\n",
       "      <td>None</td>\n",
       "      <td>None</td>\n",
       "      <td>NaN</td>\n",
       "    </tr>\n",
       "    <tr>\n",
       "      <th>2019-08-06</th>\n",
       "      <td>93.65</td>\n",
       "      <td>95.15</td>\n",
       "      <td>93.25</td>\n",
       "      <td>93.25</td>\n",
       "      <td>NaN</td>\n",
       "      <td>119714.0</td>\n",
       "      <td>11218618.0</td>\n",
       "      <td>None</td>\n",
       "      <td>None</td>\n",
       "      <td>NaN</td>\n",
       "    </tr>\n",
       "  </tbody>\n",
       "</table>\n",
       "</div>"
      ],
      "text/plain": [
       "              Open    High    Low  Close  Change  Traded Volume    Turnover  \\\n",
       "Date                                                                          \n",
       "2019-08-12  100.00  101.60  98.20  98.95     NaN       111146.0  11031779.0   \n",
       "2019-08-09   99.20  104.30  94.40  99.05     NaN       217386.0  21511178.0   \n",
       "2019-08-08   95.35   95.35  94.20  95.10     NaN       110482.0  10474803.0   \n",
       "2019-08-07   94.15   95.05  93.05  93.90     NaN       119157.0  11200026.0   \n",
       "2019-08-06   93.65   95.15  93.25  93.25     NaN       119714.0  11218618.0   \n",
       "\n",
       "           Last Price of the Day Daily Traded Units  Daily Turnover  \n",
       "Date                                                                 \n",
       "2019-08-12                  None               None             NaN  \n",
       "2019-08-09                  None               None             NaN  \n",
       "2019-08-08                  None               None             NaN  \n",
       "2019-08-07                  None               None             NaN  \n",
       "2019-08-06                  None               None             NaN  "
      ]
     },
     "execution_count": 8,
     "metadata": {},
     "output_type": "execute_result"
    }
   ],
   "source": [
    "# Currently, the \"Date\" Column is not in datetime format. We'll make it that and set it as index for easier access later.\n",
    "data['Date'] = pd.to_datetime(data['Date'])\n",
    "data = data.set_index('Date')\n",
    "data.head()"
   ]
  },
  {
   "cell_type": "markdown",
   "metadata": {},
   "source": [
    "### Dropping columns"
   ]
  },
  {
   "cell_type": "markdown",
   "metadata": {},
   "source": [
    "In the dataframe, we have two empty columns **\"Last Price of the Day\"** and **\"Daily Traded Units\"** that seems to be not helpful. \n",
    "\n",
    "According to google, *last price of the day* and *daily traded units* are similar to the *closing price* and *traded volume*, respectively. There may be some minute differences depending on when the company stops counting, but given that the two columns are both blank, we could assume that Zeiss does not keep track of them and delete the columns."
   ]
  },
  {
   "cell_type": "code",
   "execution_count": 9,
   "metadata": {},
   "outputs": [],
   "source": [
    "data = data.drop(['Last Price of the Day','Daily Traded Units'], axis = 1)"
   ]
  },
  {
   "cell_type": "markdown",
   "metadata": {},
   "source": [
    "### Filling in Change column"
   ]
  },
  {
   "cell_type": "markdown",
   "metadata": {},
   "source": [
    "The \"Change\" column only has 9 non-null values. All entries containing non-null values for Change are shown below."
   ]
  },
  {
   "cell_type": "code",
   "execution_count": 10,
   "metadata": {},
   "outputs": [
    {
     "data": {
      "text/html": [
       "<div>\n",
       "<style scoped>\n",
       "    .dataframe tbody tr th:only-of-type {\n",
       "        vertical-align: middle;\n",
       "    }\n",
       "\n",
       "    .dataframe tbody tr th {\n",
       "        vertical-align: top;\n",
       "    }\n",
       "\n",
       "    .dataframe thead th {\n",
       "        text-align: right;\n",
       "    }\n",
       "</style>\n",
       "<table border=\"1\" class=\"dataframe\">\n",
       "  <thead>\n",
       "    <tr style=\"text-align: right;\">\n",
       "      <th></th>\n",
       "      <th>Open</th>\n",
       "      <th>High</th>\n",
       "      <th>Low</th>\n",
       "      <th>Close</th>\n",
       "      <th>Change</th>\n",
       "      <th>Traded Volume</th>\n",
       "      <th>Turnover</th>\n",
       "      <th>Daily Turnover</th>\n",
       "    </tr>\n",
       "    <tr>\n",
       "      <th>Date</th>\n",
       "      <th></th>\n",
       "      <th></th>\n",
       "      <th></th>\n",
       "      <th></th>\n",
       "      <th></th>\n",
       "      <th></th>\n",
       "      <th></th>\n",
       "      <th></th>\n",
       "    </tr>\n",
       "  </thead>\n",
       "  <tbody>\n",
       "    <tr>\n",
       "      <th>2017-05-01</th>\n",
       "      <td>NaN</td>\n",
       "      <td>42.245</td>\n",
       "      <td>41.655</td>\n",
       "      <td>41.72</td>\n",
       "      <td>-0.44</td>\n",
       "      <td>86348.0</td>\n",
       "      <td>3606589.0</td>\n",
       "      <td>NaN</td>\n",
       "    </tr>\n",
       "    <tr>\n",
       "      <th>2016-12-26</th>\n",
       "      <td>NaN</td>\n",
       "      <td>35.050</td>\n",
       "      <td>34.400</td>\n",
       "      <td>35.03</td>\n",
       "      <td>0.42</td>\n",
       "      <td>48015.0</td>\n",
       "      <td>1671925.0</td>\n",
       "      <td>NaN</td>\n",
       "    </tr>\n",
       "    <tr>\n",
       "      <th>2016-10-03</th>\n",
       "      <td>NaN</td>\n",
       "      <td>34.030</td>\n",
       "      <td>33.535</td>\n",
       "      <td>34.03</td>\n",
       "      <td>-0.04</td>\n",
       "      <td>39386.0</td>\n",
       "      <td>1332857.0</td>\n",
       "      <td>NaN</td>\n",
       "    </tr>\n",
       "    <tr>\n",
       "      <th>2016-05-16</th>\n",
       "      <td>NaN</td>\n",
       "      <td>32.515</td>\n",
       "      <td>32.050</td>\n",
       "      <td>32.42</td>\n",
       "      <td>0.28</td>\n",
       "      <td>109784.0</td>\n",
       "      <td>3555327.0</td>\n",
       "      <td>NaN</td>\n",
       "    </tr>\n",
       "    <tr>\n",
       "      <th>2016-03-28</th>\n",
       "      <td>NaN</td>\n",
       "      <td>27.330</td>\n",
       "      <td>26.880</td>\n",
       "      <td>26.99</td>\n",
       "      <td>-0.36</td>\n",
       "      <td>27060.0</td>\n",
       "      <td>733246.0</td>\n",
       "      <td>NaN</td>\n",
       "    </tr>\n",
       "    <tr>\n",
       "      <th>2016-01-01</th>\n",
       "      <td>NaN</td>\n",
       "      <td>28.730</td>\n",
       "      <td>28.275</td>\n",
       "      <td>28.55</td>\n",
       "      <td>0.15</td>\n",
       "      <td>31307.0</td>\n",
       "      <td>893928.0</td>\n",
       "      <td>NaN</td>\n",
       "    </tr>\n",
       "    <tr>\n",
       "      <th>2015-12-31</th>\n",
       "      <td>NaN</td>\n",
       "      <td>28.730</td>\n",
       "      <td>28.275</td>\n",
       "      <td>28.55</td>\n",
       "      <td>0.15</td>\n",
       "      <td>31307.0</td>\n",
       "      <td>893928.0</td>\n",
       "      <td>NaN</td>\n",
       "    </tr>\n",
       "    <tr>\n",
       "      <th>2015-12-25</th>\n",
       "      <td>NaN</td>\n",
       "      <td>29.190</td>\n",
       "      <td>28.660</td>\n",
       "      <td>28.82</td>\n",
       "      <td>-0.12</td>\n",
       "      <td>29246.0</td>\n",
       "      <td>842376.0</td>\n",
       "      <td>NaN</td>\n",
       "    </tr>\n",
       "    <tr>\n",
       "      <th>2015-12-24</th>\n",
       "      <td>NaN</td>\n",
       "      <td>29.190</td>\n",
       "      <td>28.660</td>\n",
       "      <td>28.82</td>\n",
       "      <td>-0.12</td>\n",
       "      <td>29246.0</td>\n",
       "      <td>842376.0</td>\n",
       "      <td>NaN</td>\n",
       "    </tr>\n",
       "  </tbody>\n",
       "</table>\n",
       "</div>"
      ],
      "text/plain": [
       "            Open    High     Low  Close  Change  Traded Volume   Turnover  \\\n",
       "Date                                                                        \n",
       "2017-05-01   NaN  42.245  41.655  41.72   -0.44        86348.0  3606589.0   \n",
       "2016-12-26   NaN  35.050  34.400  35.03    0.42        48015.0  1671925.0   \n",
       "2016-10-03   NaN  34.030  33.535  34.03   -0.04        39386.0  1332857.0   \n",
       "2016-05-16   NaN  32.515  32.050  32.42    0.28       109784.0  3555327.0   \n",
       "2016-03-28   NaN  27.330  26.880  26.99   -0.36        27060.0   733246.0   \n",
       "2016-01-01   NaN  28.730  28.275  28.55    0.15        31307.0   893928.0   \n",
       "2015-12-31   NaN  28.730  28.275  28.55    0.15        31307.0   893928.0   \n",
       "2015-12-25   NaN  29.190  28.660  28.82   -0.12        29246.0   842376.0   \n",
       "2015-12-24   NaN  29.190  28.660  28.82   -0.12        29246.0   842376.0   \n",
       "\n",
       "            Daily Turnover  \n",
       "Date                        \n",
       "2017-05-01             NaN  \n",
       "2016-12-26             NaN  \n",
       "2016-10-03             NaN  \n",
       "2016-05-16             NaN  \n",
       "2016-03-28             NaN  \n",
       "2016-01-01             NaN  \n",
       "2015-12-31             NaN  \n",
       "2015-12-25             NaN  \n",
       "2015-12-24             NaN  "
      ]
     },
     "execution_count": 10,
     "metadata": {},
     "output_type": "execute_result"
    }
   ],
   "source": [
    "data[data['Change'].notnull()]"
   ]
  },
  {
   "cell_type": "markdown",
   "metadata": {},
   "source": [
    "According to Google, **\"In the stock market, a price change is the difference in trading prices from one period to the next or  the difference between the daily opening and closing prices of a share of stock.\"** In other words, the \"change\" column could \n",
    "refer to: \n",
    "* the difference between the values in the \"Open\" and \"Close\" column for one day \n",
    "* between the average prices for two days.\n",
    "\n",
    "I am inclined to think that the \"change\" column here refers to the *first* case, because in the table above, the change column for the days 2015-12-31 and 2016-01-01 as well as for 2015-12-25 and 2015-12-24 both had non-zero values even though the prices were the same. \n",
    "\n",
    "However, both cases are useful because the price change between two days is less sensitive to daily fluctations and could better reveal a general trend.\n",
    "\n",
    "Later, I will create a new column for inter-daily change, but right now I'll rename the 'Change\" column \"Intra-daily Change\" and fill in the null values by subtracting values in the close column by the open column."
   ]
  },
  {
   "cell_type": "code",
   "execution_count": 11,
   "metadata": {},
   "outputs": [
    {
     "data": {
      "text/html": [
       "<div>\n",
       "<style scoped>\n",
       "    .dataframe tbody tr th:only-of-type {\n",
       "        vertical-align: middle;\n",
       "    }\n",
       "\n",
       "    .dataframe tbody tr th {\n",
       "        vertical-align: top;\n",
       "    }\n",
       "\n",
       "    .dataframe thead th {\n",
       "        text-align: right;\n",
       "    }\n",
       "</style>\n",
       "<table border=\"1\" class=\"dataframe\">\n",
       "  <thead>\n",
       "    <tr style=\"text-align: right;\">\n",
       "      <th></th>\n",
       "      <th>Open</th>\n",
       "      <th>High</th>\n",
       "      <th>Low</th>\n",
       "      <th>Close</th>\n",
       "      <th>Intra-daily Change</th>\n",
       "      <th>Traded Volume</th>\n",
       "      <th>Turnover</th>\n",
       "      <th>Daily Turnover</th>\n",
       "    </tr>\n",
       "    <tr>\n",
       "      <th>Date</th>\n",
       "      <th></th>\n",
       "      <th></th>\n",
       "      <th></th>\n",
       "      <th></th>\n",
       "      <th></th>\n",
       "      <th></th>\n",
       "      <th></th>\n",
       "      <th></th>\n",
       "    </tr>\n",
       "  </thead>\n",
       "  <tbody>\n",
       "    <tr>\n",
       "      <th>2019-08-12</th>\n",
       "      <td>100.00</td>\n",
       "      <td>101.60</td>\n",
       "      <td>98.20</td>\n",
       "      <td>98.95</td>\n",
       "      <td>-1.05</td>\n",
       "      <td>111146.0</td>\n",
       "      <td>11031779.0</td>\n",
       "      <td>NaN</td>\n",
       "    </tr>\n",
       "    <tr>\n",
       "      <th>2019-08-09</th>\n",
       "      <td>99.20</td>\n",
       "      <td>104.30</td>\n",
       "      <td>94.40</td>\n",
       "      <td>99.05</td>\n",
       "      <td>-0.15</td>\n",
       "      <td>217386.0</td>\n",
       "      <td>21511178.0</td>\n",
       "      <td>NaN</td>\n",
       "    </tr>\n",
       "    <tr>\n",
       "      <th>2019-08-08</th>\n",
       "      <td>95.35</td>\n",
       "      <td>95.35</td>\n",
       "      <td>94.20</td>\n",
       "      <td>95.10</td>\n",
       "      <td>-0.25</td>\n",
       "      <td>110482.0</td>\n",
       "      <td>10474803.0</td>\n",
       "      <td>NaN</td>\n",
       "    </tr>\n",
       "    <tr>\n",
       "      <th>2019-08-07</th>\n",
       "      <td>94.15</td>\n",
       "      <td>95.05</td>\n",
       "      <td>93.05</td>\n",
       "      <td>93.90</td>\n",
       "      <td>-0.25</td>\n",
       "      <td>119157.0</td>\n",
       "      <td>11200026.0</td>\n",
       "      <td>NaN</td>\n",
       "    </tr>\n",
       "    <tr>\n",
       "      <th>2019-08-06</th>\n",
       "      <td>93.65</td>\n",
       "      <td>95.15</td>\n",
       "      <td>93.25</td>\n",
       "      <td>93.25</td>\n",
       "      <td>-0.40</td>\n",
       "      <td>119714.0</td>\n",
       "      <td>11218618.0</td>\n",
       "      <td>NaN</td>\n",
       "    </tr>\n",
       "  </tbody>\n",
       "</table>\n",
       "</div>"
      ],
      "text/plain": [
       "              Open    High    Low  Close  Intra-daily Change  Traded Volume  \\\n",
       "Date                                                                          \n",
       "2019-08-12  100.00  101.60  98.20  98.95               -1.05       111146.0   \n",
       "2019-08-09   99.20  104.30  94.40  99.05               -0.15       217386.0   \n",
       "2019-08-08   95.35   95.35  94.20  95.10               -0.25       110482.0   \n",
       "2019-08-07   94.15   95.05  93.05  93.90               -0.25       119157.0   \n",
       "2019-08-06   93.65   95.15  93.25  93.25               -0.40       119714.0   \n",
       "\n",
       "              Turnover  Daily Turnover  \n",
       "Date                                    \n",
       "2019-08-12  11031779.0             NaN  \n",
       "2019-08-09  21511178.0             NaN  \n",
       "2019-08-08  10474803.0             NaN  \n",
       "2019-08-07  11200026.0             NaN  \n",
       "2019-08-06  11218618.0             NaN  "
      ]
     },
     "execution_count": 11,
     "metadata": {},
     "output_type": "execute_result"
    }
   ],
   "source": [
    "#First, rename the column.\n",
    "data = data.rename(columns=({'Change':'Intra-daily Change'}))\n",
    "\n",
    "#if we have intra-daily change but not opening value, we find open.\n",
    "mask1 = data['Intra-daily Change'].notnull()\n",
    "column_name = 'Open'\n",
    "data.loc[mask1, column_name] = data['Close'] - data['Intra-daily Change']\n",
    "\n",
    "#And if we have open and closing values but not the intra-daily change, we find the intra-daily change.\n",
    "data['Intra-daily Change'] = data['Close'] - data['Open']\n",
    "\n",
    "#Look at the values.\n",
    "data[data['Intra-daily Change'].notnull()].head()"
   ]
  },
  {
   "cell_type": "markdown",
   "metadata": {},
   "source": [
    "After filling in all these values, let's look at the describe() of our new Intra-daily Change column."
   ]
  },
  {
   "cell_type": "code",
   "execution_count": 12,
   "metadata": {},
   "outputs": [
    {
     "data": {
      "text/plain": [
       "count    4214.000000\n",
       "mean        0.010267\n",
       "std         0.396359\n",
       "min        -3.400000\n",
       "25%        -0.150000\n",
       "50%         0.000000\n",
       "75%         0.150000\n",
       "max         8.800000\n",
       "Name: Intra-daily Change, dtype: float64"
      ]
     },
     "execution_count": 12,
     "metadata": {},
     "output_type": "execute_result"
    }
   ],
   "source": [
    "data['Intra-daily Change'].describe()"
   ]
  },
  {
   "cell_type": "markdown",
   "metadata": {},
   "source": [
    "Even after filling in all these values, I still have 723 of out the 4936 values missing in the column. Let's graph the values over time and in a box-and-whiskers plot to see where we have these missing values and how the existing values are distributed."
   ]
  },
  {
   "cell_type": "code",
   "execution_count": 13,
   "metadata": {},
   "outputs": [
    {
     "data": {
      "image/png": "[encoded data removed]",
      "text/plain": [
       "<Figure size 1080x432 with 2 Axes>"
      ]
     },
     "metadata": {
      "needs_background": "light"
     },
     "output_type": "display_data"
    }
   ],
   "source": [
    "def plotting(x):\n",
    "    #Setting figure size\n",
    "    plt.figure(figsize=(15, 6))\n",
    "    \n",
    "    #Plotting a line plot over the years\n",
    "    plt.subplot(1,2,1)\n",
    "    f = data[x].plot(title=x + \" of Zeiss stock\")\n",
    "    plt.xlabel('Year')\n",
    "    plt.ylabel(x)\n",
    "    \n",
    "    #Plotting a boxplot to look for outliers\n",
    "    plt.subplot(1,2,2)\n",
    "    h = data.boxplot(column = x)\n",
    "    plt.ylabel('Value')\n",
    "    \n",
    "    #Showing the result\n",
    "    plt.tight_layout()\n",
    "    plt.show()\n",
    "    \n",
    "# Traded volume\n",
    "plotting('Intra-daily Change')"
   ]
  },
  {
   "cell_type": "markdown",
   "metadata": {},
   "source": [
    "Generally, it appears that the intra-daily change is centered around 0 with some major fluctuations occurring recently (around the beginning of August 10th). Since the data fluctuates around the mean with no significant outliers, we can just fill in the null values with the mean of the column."
   ]
  },
  {
   "cell_type": "code",
   "execution_count": 14,
   "metadata": {},
   "outputs": [
    {
     "data": {
      "image/png": "[encoded data removed]",
      "text/plain": [
       "<Figure size 1080x432 with 2 Axes>"
      ]
     },
     "metadata": {
      "needs_background": "light"
     },
     "output_type": "display_data"
    }
   ],
   "source": [
    "#We don't have a better way to fill in the missing values, so we can just use average\n",
    "data['Intra-daily Change'] = data['Intra-daily Change'].fillna(value = data['Intra-daily Change'].mean())\n",
    "plotting('Intra-daily Change')"
   ]
  },
  {
   "cell_type": "markdown",
   "metadata": {},
   "source": [
    "As there is now no use for the open, high, and low columns, I deleted them."
   ]
  },
  {
   "cell_type": "code",
   "execution_count": 15,
   "metadata": {},
   "outputs": [],
   "source": [
    "data = data.drop(['Open','High','Low'],axis=1)"
   ]
  },
  {
   "cell_type": "markdown",
   "metadata": {},
   "source": [
    "### Creating the \"Inter-Daily Change\" column."
   ]
  },
  {
   "cell_type": "markdown",
   "metadata": {},
   "source": [
    "We have intra-daily change, so it makes sense to create an \"inter-daily change\" column, with the percentage difference between each day's closing price and that of the day before, to contrast with the \"intra-daily change\" column. There should be no null values to fill aside from the most recent entry, because there were no unknown closing prices."
   ]
  },
  {
   "cell_type": "code",
   "execution_count": 16,
   "metadata": {},
   "outputs": [
    {
     "data": {
      "text/html": [
       "<div>\n",
       "<style scoped>\n",
       "    .dataframe tbody tr th:only-of-type {\n",
       "        vertical-align: middle;\n",
       "    }\n",
       "\n",
       "    .dataframe tbody tr th {\n",
       "        vertical-align: top;\n",
       "    }\n",
       "\n",
       "    .dataframe thead th {\n",
       "        text-align: right;\n",
       "    }\n",
       "</style>\n",
       "<table border=\"1\" class=\"dataframe\">\n",
       "  <thead>\n",
       "    <tr style=\"text-align: right;\">\n",
       "      <th></th>\n",
       "      <th>Close</th>\n",
       "      <th>Intra-daily Change</th>\n",
       "      <th>Traded Volume</th>\n",
       "      <th>Turnover</th>\n",
       "      <th>Daily Turnover</th>\n",
       "      <th>Inter-Daily Change</th>\n",
       "    </tr>\n",
       "    <tr>\n",
       "      <th>Date</th>\n",
       "      <th></th>\n",
       "      <th></th>\n",
       "      <th></th>\n",
       "      <th></th>\n",
       "      <th></th>\n",
       "      <th></th>\n",
       "    </tr>\n",
       "  </thead>\n",
       "  <tbody>\n",
       "    <tr>\n",
       "      <th>2019-08-12</th>\n",
       "      <td>98.95</td>\n",
       "      <td>-1.05</td>\n",
       "      <td>111146.0</td>\n",
       "      <td>11031779.0</td>\n",
       "      <td>NaN</td>\n",
       "      <td>0.000000</td>\n",
       "    </tr>\n",
       "    <tr>\n",
       "      <th>2019-08-09</th>\n",
       "      <td>99.05</td>\n",
       "      <td>-0.15</td>\n",
       "      <td>217386.0</td>\n",
       "      <td>21511178.0</td>\n",
       "      <td>NaN</td>\n",
       "      <td>0.101061</td>\n",
       "    </tr>\n",
       "    <tr>\n",
       "      <th>2019-08-08</th>\n",
       "      <td>95.10</td>\n",
       "      <td>-0.25</td>\n",
       "      <td>110482.0</td>\n",
       "      <td>10474803.0</td>\n",
       "      <td>NaN</td>\n",
       "      <td>-3.987885</td>\n",
       "    </tr>\n",
       "    <tr>\n",
       "      <th>2019-08-07</th>\n",
       "      <td>93.90</td>\n",
       "      <td>-0.25</td>\n",
       "      <td>119157.0</td>\n",
       "      <td>11200026.0</td>\n",
       "      <td>NaN</td>\n",
       "      <td>-1.261830</td>\n",
       "    </tr>\n",
       "    <tr>\n",
       "      <th>2019-08-06</th>\n",
       "      <td>93.25</td>\n",
       "      <td>-0.40</td>\n",
       "      <td>119714.0</td>\n",
       "      <td>11218618.0</td>\n",
       "      <td>NaN</td>\n",
       "      <td>-0.692226</td>\n",
       "    </tr>\n",
       "    <tr>\n",
       "      <th>2019-08-05</th>\n",
       "      <td>94.05</td>\n",
       "      <td>-2.30</td>\n",
       "      <td>232748.0</td>\n",
       "      <td>21909462.0</td>\n",
       "      <td>NaN</td>\n",
       "      <td>0.857909</td>\n",
       "    </tr>\n",
       "    <tr>\n",
       "      <th>2019-08-02</th>\n",
       "      <td>97.25</td>\n",
       "      <td>-2.70</td>\n",
       "      <td>124704.0</td>\n",
       "      <td>12224533.0</td>\n",
       "      <td>NaN</td>\n",
       "      <td>3.402446</td>\n",
       "    </tr>\n",
       "    <tr>\n",
       "      <th>2019-08-01</th>\n",
       "      <td>100.50</td>\n",
       "      <td>0.90</td>\n",
       "      <td>102399.0</td>\n",
       "      <td>10267086.0</td>\n",
       "      <td>NaN</td>\n",
       "      <td>3.341902</td>\n",
       "    </tr>\n",
       "    <tr>\n",
       "      <th>2019-07-31</th>\n",
       "      <td>99.45</td>\n",
       "      <td>0.45</td>\n",
       "      <td>106057.0</td>\n",
       "      <td>10535986.0</td>\n",
       "      <td>NaN</td>\n",
       "      <td>-1.044776</td>\n",
       "    </tr>\n",
       "    <tr>\n",
       "      <th>2019-07-30</th>\n",
       "      <td>99.20</td>\n",
       "      <td>-1.10</td>\n",
       "      <td>117634.0</td>\n",
       "      <td>11712535.0</td>\n",
       "      <td>NaN</td>\n",
       "      <td>-0.251383</td>\n",
       "    </tr>\n",
       "  </tbody>\n",
       "</table>\n",
       "</div>"
      ],
      "text/plain": [
       "             Close  Intra-daily Change  Traded Volume    Turnover  \\\n",
       "Date                                                                \n",
       "2019-08-12   98.95               -1.05       111146.0  11031779.0   \n",
       "2019-08-09   99.05               -0.15       217386.0  21511178.0   \n",
       "2019-08-08   95.10               -0.25       110482.0  10474803.0   \n",
       "2019-08-07   93.90               -0.25       119157.0  11200026.0   \n",
       "2019-08-06   93.25               -0.40       119714.0  11218618.0   \n",
       "2019-08-05   94.05               -2.30       232748.0  21909462.0   \n",
       "2019-08-02   97.25               -2.70       124704.0  12224533.0   \n",
       "2019-08-01  100.50                0.90       102399.0  10267086.0   \n",
       "2019-07-31   99.45                0.45       106057.0  10535986.0   \n",
       "2019-07-30   99.20               -1.10       117634.0  11712535.0   \n",
       "\n",
       "            Daily Turnover  Inter-Daily Change  \n",
       "Date                                            \n",
       "2019-08-12             NaN            0.000000  \n",
       "2019-08-09             NaN            0.101061  \n",
       "2019-08-08             NaN           -3.987885  \n",
       "2019-08-07             NaN           -1.261830  \n",
       "2019-08-06             NaN           -0.692226  \n",
       "2019-08-05             NaN            0.857909  \n",
       "2019-08-02             NaN            3.402446  \n",
       "2019-08-01             NaN            3.341902  \n",
       "2019-07-31             NaN           -1.044776  \n",
       "2019-07-30             NaN           -0.251383  "
      ]
     },
     "execution_count": 16,
     "metadata": {},
     "output_type": "execute_result"
    }
   ],
   "source": [
    "data['Inter-Daily Change'] = data['Close'].pct_change()*100\n",
    "data['Inter-Daily Change'] = data['Inter-Daily Change'].fillna(value = 0)\n",
    "data.head(10)"
   ]
  },
  {
   "cell_type": "markdown",
   "metadata": {},
   "source": [
    "Let's take a look at the variation over time and in a box-and-whispers plot. Like the intra-daily change, the inter-daily change is mostly centered around 0. However, there appears to be more fluctuations in the past compared to recently."
   ]
  },
  {
   "cell_type": "code",
   "execution_count": 17,
   "metadata": {},
   "outputs": [
    {
     "data": {
      "image/png": "[encoded data removed]",
      "text/plain": [
       "<Figure size 1080x432 with 2 Axes>"
      ]
     },
     "metadata": {
      "needs_background": "light"
     },
     "output_type": "display_data"
    }
   ],
   "source": [
    "plotting('Inter-Daily Change')"
   ]
  },
  {
   "cell_type": "markdown",
   "metadata": {},
   "source": [
    "### Combining Turnover and daily turnover"
   ]
  },
  {
   "cell_type": "markdown",
   "metadata": {},
   "source": [
    "The Daily Turnover, theoretically, is a company's turnover in one day. However, Zeiss's turnover is already calculated on a daily basis, so I took a look at the values in both columns to see if there are any differences."
   ]
  },
  {
   "cell_type": "code",
   "execution_count": 18,
   "metadata": {},
   "outputs": [
    {
     "data": {
      "text/html": [
       "<div>\n",
       "<style scoped>\n",
       "    .dataframe tbody tr th:only-of-type {\n",
       "        vertical-align: middle;\n",
       "    }\n",
       "\n",
       "    .dataframe tbody tr th {\n",
       "        vertical-align: top;\n",
       "    }\n",
       "\n",
       "    .dataframe thead th {\n",
       "        text-align: right;\n",
       "    }\n",
       "</style>\n",
       "<table border=\"1\" class=\"dataframe\">\n",
       "  <thead>\n",
       "    <tr style=\"text-align: right;\">\n",
       "      <th></th>\n",
       "      <th>Close</th>\n",
       "      <th>Intra-daily Change</th>\n",
       "      <th>Traded Volume</th>\n",
       "      <th>Turnover</th>\n",
       "      <th>Daily Turnover</th>\n",
       "      <th>Inter-Daily Change</th>\n",
       "    </tr>\n",
       "    <tr>\n",
       "      <th>Date</th>\n",
       "      <th></th>\n",
       "      <th></th>\n",
       "      <th></th>\n",
       "      <th></th>\n",
       "      <th></th>\n",
       "      <th></th>\n",
       "    </tr>\n",
       "  </thead>\n",
       "  <tbody>\n",
       "    <tr>\n",
       "      <th>2010-01-01</th>\n",
       "      <td>12.46</td>\n",
       "      <td>0.010267</td>\n",
       "      <td>0.0</td>\n",
       "      <td>NaN</td>\n",
       "      <td>0.0</td>\n",
       "      <td>-0.399680</td>\n",
       "    </tr>\n",
       "    <tr>\n",
       "      <th>2009-12-31</th>\n",
       "      <td>12.46</td>\n",
       "      <td>0.010267</td>\n",
       "      <td>0.0</td>\n",
       "      <td>NaN</td>\n",
       "      <td>0.0</td>\n",
       "      <td>0.000000</td>\n",
       "    </tr>\n",
       "    <tr>\n",
       "      <th>2009-12-25</th>\n",
       "      <td>12.25</td>\n",
       "      <td>0.010267</td>\n",
       "      <td>0.0</td>\n",
       "      <td>NaN</td>\n",
       "      <td>0.0</td>\n",
       "      <td>0.657354</td>\n",
       "    </tr>\n",
       "    <tr>\n",
       "      <th>2009-12-24</th>\n",
       "      <td>12.25</td>\n",
       "      <td>0.010267</td>\n",
       "      <td>0.0</td>\n",
       "      <td>NaN</td>\n",
       "      <td>0.0</td>\n",
       "      <td>0.000000</td>\n",
       "    </tr>\n",
       "    <tr>\n",
       "      <th>2009-05-01</th>\n",
       "      <td>8.94</td>\n",
       "      <td>0.010267</td>\n",
       "      <td>0.0</td>\n",
       "      <td>NaN</td>\n",
       "      <td>0.0</td>\n",
       "      <td>-3.767492</td>\n",
       "    </tr>\n",
       "  </tbody>\n",
       "</table>\n",
       "</div>"
      ],
      "text/plain": [
       "            Close  Intra-daily Change  Traded Volume  Turnover  \\\n",
       "Date                                                             \n",
       "2010-01-01  12.46            0.010267            0.0       NaN   \n",
       "2009-12-31  12.46            0.010267            0.0       NaN   \n",
       "2009-12-25  12.25            0.010267            0.0       NaN   \n",
       "2009-12-24  12.25            0.010267            0.0       NaN   \n",
       "2009-05-01   8.94            0.010267            0.0       NaN   \n",
       "\n",
       "            Daily Turnover  Inter-Daily Change  \n",
       "Date                                            \n",
       "2010-01-01             0.0           -0.399680  \n",
       "2009-12-31             0.0            0.000000  \n",
       "2009-12-25             0.0            0.657354  \n",
       "2009-12-24             0.0            0.000000  \n",
       "2009-05-01             0.0           -3.767492  "
      ]
     },
     "execution_count": 18,
     "metadata": {},
     "output_type": "execute_result"
    }
   ],
   "source": [
    "#What is the difference between Turnover and Daily Turnover?\n",
    "data[data['Daily Turnover'].notnull()].head()"
   ]
  },
  {
   "cell_type": "code",
   "execution_count": 19,
   "metadata": {},
   "outputs": [
    {
     "data": {
      "text/html": [
       "<div>\n",
       "<style scoped>\n",
       "    .dataframe tbody tr th:only-of-type {\n",
       "        vertical-align: middle;\n",
       "    }\n",
       "\n",
       "    .dataframe tbody tr th {\n",
       "        vertical-align: top;\n",
       "    }\n",
       "\n",
       "    .dataframe thead th {\n",
       "        text-align: right;\n",
       "    }\n",
       "</style>\n",
       "<table border=\"1\" class=\"dataframe\">\n",
       "  <thead>\n",
       "    <tr style=\"text-align: right;\">\n",
       "      <th></th>\n",
       "      <th>Close</th>\n",
       "      <th>Intra-daily Change</th>\n",
       "      <th>Traded Volume</th>\n",
       "      <th>Turnover</th>\n",
       "      <th>Daily Turnover</th>\n",
       "      <th>Inter-Daily Change</th>\n",
       "    </tr>\n",
       "    <tr>\n",
       "      <th>Date</th>\n",
       "      <th></th>\n",
       "      <th></th>\n",
       "      <th></th>\n",
       "      <th></th>\n",
       "      <th></th>\n",
       "      <th></th>\n",
       "    </tr>\n",
       "  </thead>\n",
       "  <tbody>\n",
       "    <tr>\n",
       "      <th>2019-08-12</th>\n",
       "      <td>98.95</td>\n",
       "      <td>-1.05</td>\n",
       "      <td>111146.0</td>\n",
       "      <td>11031779.0</td>\n",
       "      <td>NaN</td>\n",
       "      <td>0.000000</td>\n",
       "    </tr>\n",
       "    <tr>\n",
       "      <th>2019-08-09</th>\n",
       "      <td>99.05</td>\n",
       "      <td>-0.15</td>\n",
       "      <td>217386.0</td>\n",
       "      <td>21511178.0</td>\n",
       "      <td>NaN</td>\n",
       "      <td>0.101061</td>\n",
       "    </tr>\n",
       "    <tr>\n",
       "      <th>2019-08-08</th>\n",
       "      <td>95.10</td>\n",
       "      <td>-0.25</td>\n",
       "      <td>110482.0</td>\n",
       "      <td>10474803.0</td>\n",
       "      <td>NaN</td>\n",
       "      <td>-3.987885</td>\n",
       "    </tr>\n",
       "    <tr>\n",
       "      <th>2019-08-07</th>\n",
       "      <td>93.90</td>\n",
       "      <td>-0.25</td>\n",
       "      <td>119157.0</td>\n",
       "      <td>11200026.0</td>\n",
       "      <td>NaN</td>\n",
       "      <td>-1.261830</td>\n",
       "    </tr>\n",
       "    <tr>\n",
       "      <th>2019-08-06</th>\n",
       "      <td>93.25</td>\n",
       "      <td>-0.40</td>\n",
       "      <td>119714.0</td>\n",
       "      <td>11218618.0</td>\n",
       "      <td>NaN</td>\n",
       "      <td>-0.692226</td>\n",
       "    </tr>\n",
       "  </tbody>\n",
       "</table>\n",
       "</div>"
      ],
      "text/plain": [
       "            Close  Intra-daily Change  Traded Volume    Turnover  \\\n",
       "Date                                                               \n",
       "2019-08-12  98.95               -1.05       111146.0  11031779.0   \n",
       "2019-08-09  99.05               -0.15       217386.0  21511178.0   \n",
       "2019-08-08  95.10               -0.25       110482.0  10474803.0   \n",
       "2019-08-07  93.90               -0.25       119157.0  11200026.0   \n",
       "2019-08-06  93.25               -0.40       119714.0  11218618.0   \n",
       "\n",
       "            Daily Turnover  Inter-Daily Change  \n",
       "Date                                            \n",
       "2019-08-12             NaN            0.000000  \n",
       "2019-08-09             NaN            0.101061  \n",
       "2019-08-08             NaN           -3.987885  \n",
       "2019-08-07             NaN           -1.261830  \n",
       "2019-08-06             NaN           -0.692226  "
      ]
     },
     "execution_count": 19,
     "metadata": {},
     "output_type": "execute_result"
    }
   ],
   "source": [
    "data[data['Turnover'].notnull()].head()"
   ]
  },
  {
   "cell_type": "markdown",
   "metadata": {},
   "source": [
    "It seems that when turnover is NaN, Daily Turnover is 0.0 and there is no other difference. To see if this is true, we look at\n",
    "columns where there are values for both."
   ]
  },
  {
   "cell_type": "code",
   "execution_count": 20,
   "metadata": {},
   "outputs": [
    {
     "data": {
      "text/html": [
       "<div>\n",
       "<style scoped>\n",
       "    .dataframe tbody tr th:only-of-type {\n",
       "        vertical-align: middle;\n",
       "    }\n",
       "\n",
       "    .dataframe tbody tr th {\n",
       "        vertical-align: top;\n",
       "    }\n",
       "\n",
       "    .dataframe thead th {\n",
       "        text-align: right;\n",
       "    }\n",
       "</style>\n",
       "<table border=\"1\" class=\"dataframe\">\n",
       "  <thead>\n",
       "    <tr style=\"text-align: right;\">\n",
       "      <th></th>\n",
       "      <th>Close</th>\n",
       "      <th>Intra-daily Change</th>\n",
       "      <th>Traded Volume</th>\n",
       "      <th>Turnover</th>\n",
       "      <th>Daily Turnover</th>\n",
       "      <th>Inter-Daily Change</th>\n",
       "    </tr>\n",
       "    <tr>\n",
       "      <th>Date</th>\n",
       "      <th></th>\n",
       "      <th></th>\n",
       "      <th></th>\n",
       "      <th></th>\n",
       "      <th></th>\n",
       "      <th></th>\n",
       "    </tr>\n",
       "  </thead>\n",
       "  <tbody>\n",
       "  </tbody>\n",
       "</table>\n",
       "</div>"
      ],
      "text/plain": [
       "Empty DataFrame\n",
       "Columns: [Close, Intra-daily Change, Traded Volume, Turnover, Daily Turnover, Inter-Daily Change]\n",
       "Index: []"
      ]
     },
     "execution_count": 20,
     "metadata": {},
     "output_type": "execute_result"
    }
   ],
   "source": [
    "data[data['Daily Turnover'].notnull() & data['Turnover'].notnull()]"
   ]
  },
  {
   "cell_type": "markdown",
   "metadata": {},
   "source": [
    "It seems that there isn't any. Let's take a look at the .value_counts() for the daily turnover to see if there are any values aside from 0."
   ]
  },
  {
   "cell_type": "code",
   "execution_count": 21,
   "metadata": {},
   "outputs": [
    {
     "data": {
      "text/plain": [
       "0.0    1309\n",
       "Name: Daily Turnover, dtype: int64"
      ]
     },
     "execution_count": 21,
     "metadata": {},
     "output_type": "execute_result"
    }
   ],
   "source": [
    "data['Daily Turnover'].value_counts()"
   ]
  },
  {
   "cell_type": "markdown",
   "metadata": {},
   "source": [
    "What does a 0 in Turnover mean? According to Google, when a company is *private both the traded volume and the turnover would be 0.* Perhaps Zeiss was a private company at one point. Thus, we would keep this information. \n",
    "\n",
    "So it looks like we can combine \"Daily Turnover\" and \"Turnover\" into one column, \"Turnover\", and replace some NaN values with 0."
   ]
  },
  {
   "cell_type": "code",
   "execution_count": 22,
   "metadata": {},
   "outputs": [
    {
     "data": {
      "text/html": [
       "<div>\n",
       "<style scoped>\n",
       "    .dataframe tbody tr th:only-of-type {\n",
       "        vertical-align: middle;\n",
       "    }\n",
       "\n",
       "    .dataframe tbody tr th {\n",
       "        vertical-align: top;\n",
       "    }\n",
       "\n",
       "    .dataframe thead th {\n",
       "        text-align: right;\n",
       "    }\n",
       "</style>\n",
       "<table border=\"1\" class=\"dataframe\">\n",
       "  <thead>\n",
       "    <tr style=\"text-align: right;\">\n",
       "      <th></th>\n",
       "      <th>Close</th>\n",
       "      <th>Intra-daily Change</th>\n",
       "      <th>Traded Volume</th>\n",
       "      <th>Turnover</th>\n",
       "      <th>Daily Turnover</th>\n",
       "      <th>Inter-Daily Change</th>\n",
       "    </tr>\n",
       "    <tr>\n",
       "      <th>Date</th>\n",
       "      <th></th>\n",
       "      <th></th>\n",
       "      <th></th>\n",
       "      <th></th>\n",
       "      <th></th>\n",
       "      <th></th>\n",
       "    </tr>\n",
       "  </thead>\n",
       "  <tbody>\n",
       "    <tr>\n",
       "      <th>2010-01-01</th>\n",
       "      <td>12.46</td>\n",
       "      <td>0.010267</td>\n",
       "      <td>0.0</td>\n",
       "      <td>0.0</td>\n",
       "      <td>0.0</td>\n",
       "      <td>-0.399680</td>\n",
       "    </tr>\n",
       "    <tr>\n",
       "      <th>2009-12-31</th>\n",
       "      <td>12.46</td>\n",
       "      <td>0.010267</td>\n",
       "      <td>0.0</td>\n",
       "      <td>0.0</td>\n",
       "      <td>0.0</td>\n",
       "      <td>0.000000</td>\n",
       "    </tr>\n",
       "    <tr>\n",
       "      <th>2009-12-25</th>\n",
       "      <td>12.25</td>\n",
       "      <td>0.010267</td>\n",
       "      <td>0.0</td>\n",
       "      <td>0.0</td>\n",
       "      <td>0.0</td>\n",
       "      <td>0.657354</td>\n",
       "    </tr>\n",
       "    <tr>\n",
       "      <th>2009-12-24</th>\n",
       "      <td>12.25</td>\n",
       "      <td>0.010267</td>\n",
       "      <td>0.0</td>\n",
       "      <td>0.0</td>\n",
       "      <td>0.0</td>\n",
       "      <td>0.000000</td>\n",
       "    </tr>\n",
       "    <tr>\n",
       "      <th>2009-05-01</th>\n",
       "      <td>8.94</td>\n",
       "      <td>0.010267</td>\n",
       "      <td>0.0</td>\n",
       "      <td>0.0</td>\n",
       "      <td>0.0</td>\n",
       "      <td>-3.767492</td>\n",
       "    </tr>\n",
       "  </tbody>\n",
       "</table>\n",
       "</div>"
      ],
      "text/plain": [
       "            Close  Intra-daily Change  Traded Volume  Turnover  \\\n",
       "Date                                                             \n",
       "2010-01-01  12.46            0.010267            0.0       0.0   \n",
       "2009-12-31  12.46            0.010267            0.0       0.0   \n",
       "2009-12-25  12.25            0.010267            0.0       0.0   \n",
       "2009-12-24  12.25            0.010267            0.0       0.0   \n",
       "2009-05-01   8.94            0.010267            0.0       0.0   \n",
       "\n",
       "            Daily Turnover  Inter-Daily Change  \n",
       "Date                                            \n",
       "2010-01-01             0.0           -0.399680  \n",
       "2009-12-31             0.0            0.000000  \n",
       "2009-12-25             0.0            0.657354  \n",
       "2009-12-24             0.0            0.000000  \n",
       "2009-05-01             0.0           -3.767492  "
      ]
     },
     "execution_count": 22,
     "metadata": {},
     "output_type": "execute_result"
    }
   ],
   "source": [
    "mask2 = data['Daily Turnover'].notnull()\n",
    "column_name = 'Turnover'\n",
    "data.loc[mask2, column_name] = 0.0\n",
    "\n",
    "data[data['Daily Turnover'].notnull()].head()"
   ]
  },
  {
   "cell_type": "code",
   "execution_count": 23,
   "metadata": {},
   "outputs": [
    {
     "data": {
      "text/html": [
       "<div>\n",
       "<style scoped>\n",
       "    .dataframe tbody tr th:only-of-type {\n",
       "        vertical-align: middle;\n",
       "    }\n",
       "\n",
       "    .dataframe tbody tr th {\n",
       "        vertical-align: top;\n",
       "    }\n",
       "\n",
       "    .dataframe thead th {\n",
       "        text-align: right;\n",
       "    }\n",
       "</style>\n",
       "<table border=\"1\" class=\"dataframe\">\n",
       "  <thead>\n",
       "    <tr style=\"text-align: right;\">\n",
       "      <th></th>\n",
       "      <th>Close</th>\n",
       "      <th>Intra-daily Change</th>\n",
       "      <th>Traded Volume</th>\n",
       "      <th>Turnover</th>\n",
       "      <th>Inter-Daily Change</th>\n",
       "    </tr>\n",
       "    <tr>\n",
       "      <th>Date</th>\n",
       "      <th></th>\n",
       "      <th></th>\n",
       "      <th></th>\n",
       "      <th></th>\n",
       "      <th></th>\n",
       "    </tr>\n",
       "  </thead>\n",
       "  <tbody>\n",
       "    <tr>\n",
       "      <th>2019-08-12</th>\n",
       "      <td>98.95</td>\n",
       "      <td>-1.05</td>\n",
       "      <td>111146.0</td>\n",
       "      <td>11031779.0</td>\n",
       "      <td>0.000000</td>\n",
       "    </tr>\n",
       "    <tr>\n",
       "      <th>2019-08-09</th>\n",
       "      <td>99.05</td>\n",
       "      <td>-0.15</td>\n",
       "      <td>217386.0</td>\n",
       "      <td>21511178.0</td>\n",
       "      <td>0.101061</td>\n",
       "    </tr>\n",
       "    <tr>\n",
       "      <th>2019-08-08</th>\n",
       "      <td>95.10</td>\n",
       "      <td>-0.25</td>\n",
       "      <td>110482.0</td>\n",
       "      <td>10474803.0</td>\n",
       "      <td>-3.987885</td>\n",
       "    </tr>\n",
       "    <tr>\n",
       "      <th>2019-08-07</th>\n",
       "      <td>93.90</td>\n",
       "      <td>-0.25</td>\n",
       "      <td>119157.0</td>\n",
       "      <td>11200026.0</td>\n",
       "      <td>-1.261830</td>\n",
       "    </tr>\n",
       "    <tr>\n",
       "      <th>2019-08-06</th>\n",
       "      <td>93.25</td>\n",
       "      <td>-0.40</td>\n",
       "      <td>119714.0</td>\n",
       "      <td>11218618.0</td>\n",
       "      <td>-0.692226</td>\n",
       "    </tr>\n",
       "  </tbody>\n",
       "</table>\n",
       "</div>"
      ],
      "text/plain": [
       "            Close  Intra-daily Change  Traded Volume    Turnover  \\\n",
       "Date                                                               \n",
       "2019-08-12  98.95               -1.05       111146.0  11031779.0   \n",
       "2019-08-09  99.05               -0.15       217386.0  21511178.0   \n",
       "2019-08-08  95.10               -0.25       110482.0  10474803.0   \n",
       "2019-08-07  93.90               -0.25       119157.0  11200026.0   \n",
       "2019-08-06  93.25               -0.40       119714.0  11218618.0   \n",
       "\n",
       "            Inter-Daily Change  \n",
       "Date                            \n",
       "2019-08-12            0.000000  \n",
       "2019-08-09            0.101061  \n",
       "2019-08-08           -3.987885  \n",
       "2019-08-07           -1.261830  \n",
       "2019-08-06           -0.692226  "
      ]
     },
     "execution_count": 23,
     "metadata": {},
     "output_type": "execute_result"
    }
   ],
   "source": [
    "data = data.drop('Daily Turnover', axis = 1)\n",
    "data.head()"
   ]
  },
  {
   "cell_type": "markdown",
   "metadata": {},
   "source": [
    "I'll look at the describe() of our combined Turnover column. "
   ]
  },
  {
   "cell_type": "code",
   "execution_count": 24,
   "metadata": {},
   "outputs": [
    {
     "data": {
      "text/plain": [
       "count    4.891000e+03\n",
       "mean     1.543648e+06\n",
       "std      4.656318e+06\n",
       "min      0.000000e+00\n",
       "25%      0.000000e+00\n",
       "50%      6.914330e+05\n",
       "75%      1.529190e+06\n",
       "max      2.584535e+08\n",
       "Name: Turnover, dtype: float64"
      ]
     },
     "execution_count": 24,
     "metadata": {},
     "output_type": "execute_result"
    }
   ],
   "source": [
    "data['Turnover'].describe()"
   ]
  },
  {
   "cell_type": "markdown",
   "metadata": {},
   "source": [
    "Then I'll, like above, graph the values over time and in a box-and-whiskers plot. It looks like the turnover is gradually increasing, so I'll fill in the missing values with 'ffill' to maintain the increasing trend. In addition, there is a significant outlier at approximately 2.5e8 that needs to be examined further."
   ]
  },
  {
   "cell_type": "code",
   "execution_count": 25,
   "metadata": {},
   "outputs": [
    {
     "data": {
      "image/png": "[encoded data removed]",
      "text/plain": [
       "<Figure size 1080x432 with 2 Axes>"
      ]
     },
     "metadata": {
      "needs_background": "light"
     },
     "output_type": "display_data"
    }
   ],
   "source": [
    "plotting('Turnover')"
   ]
  },
  {
   "cell_type": "code",
   "execution_count": 52,
   "metadata": {},
   "outputs": [
    {
     "data": {
      "text/html": [
       "<div>\n",
       "<style scoped>\n",
       "    .dataframe tbody tr th:only-of-type {\n",
       "        vertical-align: middle;\n",
       "    }\n",
       "\n",
       "    .dataframe tbody tr th {\n",
       "        vertical-align: top;\n",
       "    }\n",
       "\n",
       "    .dataframe thead th {\n",
       "        text-align: right;\n",
       "    }\n",
       "</style>\n",
       "<table border=\"1\" class=\"dataframe\">\n",
       "  <thead>\n",
       "    <tr style=\"text-align: right;\">\n",
       "      <th></th>\n",
       "      <th>Close</th>\n",
       "      <th>Intra-daily Change</th>\n",
       "      <th>Traded Volume</th>\n",
       "      <th>Turnover</th>\n",
       "      <th>Inter-Daily Change</th>\n",
       "      <th>Date</th>\n",
       "    </tr>\n",
       "    <tr>\n",
       "      <th>Date</th>\n",
       "      <th></th>\n",
       "      <th></th>\n",
       "      <th></th>\n",
       "      <th></th>\n",
       "      <th></th>\n",
       "      <th></th>\n",
       "    </tr>\n",
       "  </thead>\n",
       "  <tbody>\n",
       "    <tr>\n",
       "      <th>2019-05-28</th>\n",
       "      <td>87.4</td>\n",
       "      <td>-0.1</td>\n",
       "      <td>2957391.0</td>\n",
       "      <td>258453488.0</td>\n",
       "      <td>3.9239</td>\n",
       "      <td>2019-05-28</td>\n",
       "    </tr>\n",
       "  </tbody>\n",
       "</table>\n",
       "</div>"
      ],
      "text/plain": [
       "            Close  Intra-daily Change  Traded Volume     Turnover  \\\n",
       "Date                                                                \n",
       "2019-05-28   87.4                -0.1      2957391.0  258453488.0   \n",
       "\n",
       "            Inter-Daily Change       Date  \n",
       "Date                                       \n",
       "2019-05-28              3.9239 2019-05-28  "
      ]
     },
     "execution_count": 52,
     "metadata": {},
     "output_type": "execute_result"
    }
   ],
   "source": [
    "#Finding the row with the abnormally high Turnover\n",
    "data['Turnover'] = data['Turnover'].fillna(method='ffill')\n",
    "data.loc[data.index[data['Turnover'] == max(data['Turnover'])]]"
   ]
  },
  {
   "cell_type": "markdown",
   "metadata": {},
   "source": [
    "Turnover is the product of the closing price and the traded volume, which holds true in this case. It's entirely posible that the abnormally high turnover was simply the result of an abnormally profitable day for the company, and that there's nothing wrong with the data itself."
   ]
  },
  {
   "cell_type": "markdown",
   "metadata": {},
   "source": [
    "### Traded Volume."
   ]
  },
  {
   "cell_type": "markdown",
   "metadata": {},
   "source": [
    "As always, we take a look at the values over time and in a box and whiskers plot. The traded volume mostly reflects the same patterns seen in the turnover, so it makes sese to fill in missing values the same way using \"ffill\"."
   ]
  },
  {
   "cell_type": "code",
   "execution_count": 27,
   "metadata": {},
   "outputs": [
    {
     "data": {
      "image/png": "[encoded data removed]",
      "text/plain": [
       "<Figure size 1080x432 with 2 Axes>"
      ]
     },
     "metadata": {
      "needs_background": "light"
     },
     "output_type": "display_data"
    }
   ],
   "source": [
    "plotting('Traded Volume')"
   ]
  },
  {
   "cell_type": "code",
   "execution_count": 28,
   "metadata": {},
   "outputs": [],
   "source": [
    "data['Traded Volume'] = data['Traded Volume'].fillna(method='ffill')"
   ]
  },
  {
   "cell_type": "markdown",
   "metadata": {},
   "source": [
    "## Re-examining data after cleaning"
   ]
  },
  {
   "cell_type": "code",
   "execution_count": 29,
   "metadata": {},
   "outputs": [
    {
     "name": "stdout",
     "output_type": "stream",
     "text": [
      "<class 'pandas.core.frame.DataFrame'>\n",
      "DatetimeIndex: 4937 entries, 2019-08-12 to 2000-06-07\n",
      "Data columns (total 5 columns):\n",
      "Close                 4937 non-null float64\n",
      "Intra-daily Change    4937 non-null float64\n",
      "Traded Volume         4937 non-null float64\n",
      "Turnover              4937 non-null float64\n",
      "Inter-Daily Change    4937 non-null float64\n",
      "dtypes: float64(5)\n",
      "memory usage: 391.4 KB\n"
     ]
    }
   ],
   "source": [
    "data.info()"
   ]
  },
  {
   "cell_type": "markdown",
   "metadata": {},
   "source": [
    "As compared to before, we've deleted some meaningless columns and filled all columns so that there are no null values."
   ]
  },
  {
   "cell_type": "code",
   "execution_count": 53,
   "metadata": {},
   "outputs": [
    {
     "data": {
      "text/html": [
       "<div>\n",
       "<style scoped>\n",
       "    .dataframe tbody tr th:only-of-type {\n",
       "        vertical-align: middle;\n",
       "    }\n",
       "\n",
       "    .dataframe tbody tr th {\n",
       "        vertical-align: top;\n",
       "    }\n",
       "\n",
       "    .dataframe thead th {\n",
       "        text-align: right;\n",
       "    }\n",
       "</style>\n",
       "<table border=\"1\" class=\"dataframe\">\n",
       "  <thead>\n",
       "    <tr style=\"text-align: right;\">\n",
       "      <th></th>\n",
       "      <th>Close</th>\n",
       "      <th>Intra-daily Change</th>\n",
       "      <th>Traded Volume</th>\n",
       "      <th>Turnover</th>\n",
       "      <th>Inter-Daily Change</th>\n",
       "    </tr>\n",
       "  </thead>\n",
       "  <tbody>\n",
       "    <tr>\n",
       "      <th>count</th>\n",
       "      <td>4937.000000</td>\n",
       "      <td>4937.000000</td>\n",
       "      <td>4.937000e+03</td>\n",
       "      <td>4.937000e+03</td>\n",
       "      <td>4937.000000</td>\n",
       "    </tr>\n",
       "    <tr>\n",
       "      <th>mean</th>\n",
       "      <td>22.590223</td>\n",
       "      <td>0.010267</td>\n",
       "      <td>5.494594e+04</td>\n",
       "      <td>1.733773e+06</td>\n",
       "      <td>0.018090</td>\n",
       "    </tr>\n",
       "    <tr>\n",
       "      <th>std</th>\n",
       "      <td>17.187561</td>\n",
       "      <td>0.366182</td>\n",
       "      <td>7.838248e+04</td>\n",
       "      <td>5.032237e+06</td>\n",
       "      <td>2.919175</td>\n",
       "    </tr>\n",
       "    <tr>\n",
       "      <th>min</th>\n",
       "      <td>4.070000</td>\n",
       "      <td>-3.400000</td>\n",
       "      <td>0.000000e+00</td>\n",
       "      <td>0.000000e+00</td>\n",
       "      <td>-30.769231</td>\n",
       "    </tr>\n",
       "    <tr>\n",
       "      <th>25%</th>\n",
       "      <td>11.360000</td>\n",
       "      <td>-0.110000</td>\n",
       "      <td>0.000000e+00</td>\n",
       "      <td>0.000000e+00</td>\n",
       "      <td>-0.956175</td>\n",
       "    </tr>\n",
       "    <tr>\n",
       "      <th>50%</th>\n",
       "      <td>16.400000</td>\n",
       "      <td>0.010267</td>\n",
       "      <td>3.941100e+04</td>\n",
       "      <td>7.031020e+05</td>\n",
       "      <td>0.000000</td>\n",
       "    </tr>\n",
       "    <tr>\n",
       "      <th>75%</th>\n",
       "      <td>24.930000</td>\n",
       "      <td>0.120000</td>\n",
       "      <td>7.403900e+04</td>\n",
       "      <td>1.568884e+06</td>\n",
       "      <td>0.948276</td>\n",
       "    </tr>\n",
       "    <tr>\n",
       "      <th>max</th>\n",
       "      <td>100.500000</td>\n",
       "      <td>8.800000</td>\n",
       "      <td>2.957391e+06</td>\n",
       "      <td>2.584535e+08</td>\n",
       "      <td>111.881188</td>\n",
       "    </tr>\n",
       "  </tbody>\n",
       "</table>\n",
       "</div>"
      ],
      "text/plain": [
       "             Close  Intra-daily Change  Traded Volume      Turnover  \\\n",
       "count  4937.000000         4937.000000   4.937000e+03  4.937000e+03   \n",
       "mean     22.590223            0.010267   5.494594e+04  1.733773e+06   \n",
       "std      17.187561            0.366182   7.838248e+04  5.032237e+06   \n",
       "min       4.070000           -3.400000   0.000000e+00  0.000000e+00   \n",
       "25%      11.360000           -0.110000   0.000000e+00  0.000000e+00   \n",
       "50%      16.400000            0.010267   3.941100e+04  7.031020e+05   \n",
       "75%      24.930000            0.120000   7.403900e+04  1.568884e+06   \n",
       "max     100.500000            8.800000   2.957391e+06  2.584535e+08   \n",
       "\n",
       "       Inter-Daily Change  \n",
       "count         4937.000000  \n",
       "mean             0.018090  \n",
       "std              2.919175  \n",
       "min            -30.769231  \n",
       "25%             -0.956175  \n",
       "50%              0.000000  \n",
       "75%              0.948276  \n",
       "max            111.881188  "
      ]
     },
     "execution_count": 53,
     "metadata": {},
     "output_type": "execute_result"
    }
   ],
   "source": [
    "data.describe()"
   ]
  },
  {
   "cell_type": "markdown",
   "metadata": {},
   "source": [
    "# Visualizing data"
   ]
  },
  {
   "cell_type": "markdown",
   "metadata": {},
   "source": [
    "### Quick visualization"
   ]
  },
  {
   "cell_type": "markdown",
   "metadata": {},
   "source": [
    "I plan to include the following information in my final dashboard:\n",
    "* Closing price, Turnover, Trading Volume, Inter- and Intra- daily change over time.\n",
    "* Predictions of all of the above for two years.\n",
    "* Patterns in the data within certain time frames (week, month, year)"
   ]
  },
  {
   "cell_type": "code",
   "execution_count": 31,
   "metadata": {},
   "outputs": [],
   "source": [
    "from bokeh.io import output_file, show, curdoc\n",
    "from bokeh.plotting import figure\n",
    "from bokeh.models import Select, ColumnDataSource\n",
    "from bokeh.layouts import row"
   ]
  },
  {
   "cell_type": "code",
   "execution_count": null,
   "metadata": {},
   "outputs": [],
   "source": [
    "#Making the ColumnDataSource\n",
    "CDS = ColumnDataSource(data)"
   ]
  },
  {
   "cell_type": "code",
   "execution_count": 57,
   "metadata": {},
   "outputs": [
    {
     "data": {
      "text/html": [
       "<div style=\"display: table;\"><div style=\"display: table-row;\"><div style=\"display: table-cell;\"><b title=\"bokeh.models.renderers.GlyphRenderer\">GlyphRenderer</b>(</div><div style=\"display: table-cell;\">id&nbsp;=&nbsp;'1908', <span id=\"1911\" style=\"cursor: pointer;\">&hellip;)</span></div></div><div class=\"1910\" style=\"display: none;\"><div style=\"display: table-cell;\"></div><div style=\"display: table-cell;\">data_source&nbsp;=&nbsp;ColumnDataSource(id='1835', ...),</div></div><div class=\"1910\" style=\"display: none;\"><div style=\"display: table-cell;\"></div><div style=\"display: table-cell;\">glyph&nbsp;=&nbsp;Line(id='1906', ...),</div></div><div class=\"1910\" style=\"display: none;\"><div style=\"display: table-cell;\"></div><div style=\"display: table-cell;\">hover_glyph&nbsp;=&nbsp;None,</div></div><div class=\"1910\" style=\"display: none;\"><div style=\"display: table-cell;\"></div><div style=\"display: table-cell;\">js_event_callbacks&nbsp;=&nbsp;{},</div></div><div class=\"1910\" style=\"display: none;\"><div style=\"display: table-cell;\"></div><div style=\"display: table-cell;\">js_property_callbacks&nbsp;=&nbsp;{},</div></div><div class=\"1910\" style=\"display: none;\"><div style=\"display: table-cell;\"></div><div style=\"display: table-cell;\">level&nbsp;=&nbsp;'glyph',</div></div><div class=\"1910\" style=\"display: none;\"><div style=\"display: table-cell;\"></div><div style=\"display: table-cell;\">muted&nbsp;=&nbsp;False,</div></div><div class=\"1910\" style=\"display: none;\"><div style=\"display: table-cell;\"></div><div style=\"display: table-cell;\">muted_glyph&nbsp;=&nbsp;None,</div></div><div class=\"1910\" style=\"display: none;\"><div style=\"display: table-cell;\"></div><div style=\"display: table-cell;\">name&nbsp;=&nbsp;None,</div></div><div class=\"1910\" style=\"display: none;\"><div style=\"display: table-cell;\"></div><div style=\"display: table-cell;\">nonselection_glyph&nbsp;=&nbsp;Line(id='1907', ...),</div></div><div class=\"1910\" style=\"display: none;\"><div style=\"display: table-cell;\"></div><div style=\"display: table-cell;\">selection_glyph&nbsp;=&nbsp;None,</div></div><div class=\"1910\" style=\"display: none;\"><div style=\"display: table-cell;\"></div><div style=\"display: table-cell;\">subscribed_events&nbsp;=&nbsp;[],</div></div><div class=\"1910\" style=\"display: none;\"><div style=\"display: table-cell;\"></div><div style=\"display: table-cell;\">tags&nbsp;=&nbsp;[],</div></div><div class=\"1910\" style=\"display: none;\"><div style=\"display: table-cell;\"></div><div style=\"display: table-cell;\">view&nbsp;=&nbsp;CDSView(id='1909', ...),</div></div><div class=\"1910\" style=\"display: none;\"><div style=\"display: table-cell;\"></div><div style=\"display: table-cell;\">visible&nbsp;=&nbsp;True,</div></div><div class=\"1910\" style=\"display: none;\"><div style=\"display: table-cell;\"></div><div style=\"display: table-cell;\">x_range_name&nbsp;=&nbsp;'default',</div></div><div class=\"1910\" style=\"display: none;\"><div style=\"display: table-cell;\"></div><div style=\"display: table-cell;\">y_range_name&nbsp;=&nbsp;'default')</div></div></div>\n",
       "<script>\n",
       "(function() {\n",
       "  var expanded = false;\n",
       "  var ellipsis = document.getElementById(\"1911\");\n",
       "  ellipsis.addEventListener(\"click\", function() {\n",
       "    var rows = document.getElementsByClassName(\"1910\");\n",
       "    for (var i = 0; i < rows.length; i++) {\n",
       "      var el = rows[i];\n",
       "      el.style.display = expanded ? \"none\" : \"table-row\";\n",
       "    }\n",
       "    ellipsis.innerHTML = expanded ? \"&hellip;)\" : \"&lsaquo;&lsaquo;&lsaquo;\";\n",
       "    expanded = !expanded;\n",
       "  });\n",
       "})();\n",
       "</script>\n"
      ],
      "text/plain": [
       "GlyphRenderer(id='1908', ...)"
      ]
     },
     "execution_count": 57,
     "metadata": {},
     "output_type": "execute_result"
    }
   ],
   "source": [
    "#Making the glyphs\n",
    "closing = figure()\n",
    "closing.line(x = \"Date\", y = \"Close\", line_width=3, source=CDS)"
   ]
  },
  {
   "cell_type": "code",
   "execution_count": 60,
   "metadata": {},
   "outputs": [
    {
     "name": "stderr",
     "output_type": "stream",
     "text": [
      "WARNING:bokeh.embed.util:\n",
      "You are generating standalone HTML/JS output, but trying to use real Python\n",
      "callbacks (i.e. with on_change or on_event). This combination cannot work.\n",
      "\n",
      "Only JavaScript callbacks may be used with standalone output. For more\n",
      "information on JavaScript callbacks with Bokeh, see:\n",
      "\n",
      "    http://bokeh.pydata.org/en/latest/docs/user_guide/interaction/callbacks.html\n",
      "\n",
      "Alternatively, to use real Python callbacks, a Bokeh server application may\n",
      "be used. For more information on building and running Bokeh applications, see:\n",
      "\n",
      "    http://bokeh.pydata.org/en/latest/docs/user_guide/server.html\n",
      "\n"
     ]
    }
   ],
   "source": [
    "menu = Select(options = ['Closing price', 'Turnover', 'Trading Volume', 'Inter-daily change', 'Intra- daily change'])\n",
    "def update(attr, old, new):\n",
    "    if menu.value == 'Trading Volume':\n",
    "        closing.glyph.y = 'Trading Volume'\n",
    "    elif menu.value == 'Turnover':\n",
    "        closing.glyph.y = 'Turnover'\n",
    "    else:\n",
    "        closing.glyph.y = 'Close'\n",
    "menu.on_change('options',update)\n",
    "t = row(menu,closing)\n",
    "curdoc().add_root(t)\n",
    "show(t)"
   ]
  },
  {
   "cell_type": "markdown",
   "metadata": {},
   "source": [
    "### Correlation"
   ]
  },
  {
   "cell_type": "markdown",
   "metadata": {},
   "source": [
    "Below is a seaborn pairplot of every variable, with each column resampled by month because since if we show all of the data, everything will be too hectic. "
   ]
  },
  {
   "cell_type": "code",
   "execution_count": 61,
   "metadata": {},
   "outputs": [
    {
     "data": {
      "image/png": "[encoded data removed]",
      "text/plain": [
       "<Figure size 900x900 with 30 Axes>"
      ]
     },
     "metadata": {
      "needs_background": "light"
     },
     "output_type": "display_data"
    }
   ],
   "source": [
    "data_resampled = data.resample('M').mean()\n",
    "sns.pairplot(data_resampled)\n",
    "plt.show()"
   ]
  },
  {
   "cell_type": "markdown",
   "metadata": {},
   "source": [
    "As you can see:\n",
    "* All of the price variables highly correlate with each other, which makes sense since numbers from one column is used to calculate another.\n",
    "* There is a slight positive correlation between turnover and the prices.\n",
    "* There is a slight positive correlation between the traded volume and the prices. \n",
    "* There is a positive correlation between traded volume and turnover.\n",
    "* There is a slight negative correlation between traded volume and turnover. \n",
    "* There is a slight negative correlation between inter-daily change and intra-daily change."
   ]
  },
  {
   "cell_type": "markdown",
   "metadata": {},
   "source": [
    "# Machine Learning Prediction"
   ]
  },
  {
   "cell_type": "markdown",
   "metadata": {},
   "source": [
    "I tried training a few models to predict the daily closing price of ZEISS stock. Here, I used the closing price because that's the column with the least number of null values."
   ]
  },
  {
   "cell_type": "markdown",
   "metadata": {},
   "source": [
    "### Facebook Prophet"
   ]
  },
  {
   "cell_type": "code",
   "execution_count": 35,
   "metadata": {},
   "outputs": [
    {
     "data": {
      "text/plain": [
       "(4903, 2)"
      ]
     },
     "execution_count": 35,
     "metadata": {},
     "output_type": "execute_result"
    }
   ],
   "source": [
    "# Prophet requires columns ds (Date) and y (value)\n",
    "gm = data.reset_index().rename(columns={'Date':'ds','Close': 'y'})\n",
    "gm = gm[['ds','y']]\n",
    "gm.shape"
   ]
  },
  {
   "cell_type": "code",
   "execution_count": 36,
   "metadata": {},
   "outputs": [
    {
     "name": "stderr",
     "output_type": "stream",
     "text": [
      "INFO:fbprophet:Disabling daily seasonality. Run prophet with daily_seasonality=True to override this.\n",
      "E:\\Anaconda\\lib\\site-packages\\pystan\\misc.py:399: FutureWarning: Conversion of the second argument of issubdtype from `float` to `np.floating` is deprecated. In future, it will be treated as `np.float64 == np.dtype(float).type`.\n",
      "  elif np.issubdtype(np.asarray(v).dtype, float):\n"
     ]
    },
    {
     "data": {
      "image/png": "[encoded data removed]",
      "text/plain": [
       "<Figure size 432x288 with 1 Axes>"
      ]
     },
     "metadata": {
      "needs_background": "light"
     },
     "output_type": "display_data"
    }
   ],
   "source": [
    "gm_1 = gm[2444:]\n",
    "gm_2 = gm[:2444]\n",
    "\n",
    "# Make the prophet model and fit on 1/2 of the data\n",
    "gm_prophet = fbprophet.Prophet(changepoint_prior_scale=0.5)\n",
    "gm_prophet.fit(gm_1)\n",
    "\n",
    "gm_forecast = gm_prophet.make_future_dataframe(periods=365*2, freq='D')\n",
    "gm_forecast_pred = gm_prophet.predict(gm_forecast)\n",
    "\n",
    "#Plot the results\n",
    "plt.plot(gm_2['ds'],gm_2['y'])\n",
    "plt.plot(gm_forecast_pred['ds'],gm_forecast_pred['yhat'], color='r')\n",
    "plt.show()"
   ]
  },
  {
   "cell_type": "code",
   "execution_count": 38,
   "metadata": {},
   "outputs": [
    {
     "data": {
      "text/plain": [
       "57.759521162757636"
      ]
     },
     "execution_count": 38,
     "metadata": {},
     "output_type": "execute_result"
    }
   ],
   "source": [
    "#Accuracy of predicted\n",
    "pred = gm_forecast_pred.iloc[::-1]['yhat'][:730]\n",
    "true = gm_2['y'][-730:]\n",
    "score = metrics.mean_squared_error(y_true = true, y_pred = pred)\n",
    "score"
   ]
  },
  {
   "cell_type": "code",
   "execution_count": 39,
   "metadata": {},
   "outputs": [
    {
     "name": "stderr",
     "output_type": "stream",
     "text": [
      "INFO:fbprophet:Disabling daily seasonality. Run prophet with daily_seasonality=True to override this.\n",
      "E:\\Anaconda\\lib\\site-packages\\pystan\\misc.py:399: FutureWarning: Conversion of the second argument of issubdtype from `float` to `np.floating` is deprecated. In future, it will be treated as `np.float64 == np.dtype(float).type`.\n",
      "  elif np.issubdtype(np.asarray(v).dtype, float):\n"
     ]
    },
    {
     "data": {
      "text/plain": [
       "Text(0.5, 1.0, 'Closing price of ZEISS Stock ')"
      ]
     },
     "execution_count": 39,
     "metadata": {},
     "output_type": "execute_result"
    },
    {
     "data": {
      "image/png": "[encoded data removed]",
      "text/plain": [
       "<Figure size 720x432 with 1 Axes>"
      ]
     },
     "metadata": {},
     "output_type": "display_data"
    }
   ],
   "source": [
    "gm_prophet = fbprophet.Prophet(changepoint_prior_scale=0.5)\n",
    "gm_prophet.fit(gm)\n",
    "\n",
    "# Make predictions\n",
    "gm_forecast = gm_prophet.make_future_dataframe(periods=365*2, freq='D')\n",
    "gm_forecast_pred = gm_prophet.predict(gm_forecast)\n",
    "gm_prophet.plot(gm_forecast_pred, xlabel = 'Date', ylabel = 'Closing price ($)')\n",
    "plt.title('Closing price of ZEISS Stock ')"
   ]
  },
  {
   "cell_type": "markdown",
   "metadata": {},
   "source": [
    "The black dots represent the company's actual closing prices, and the darker blue line represents the predictions made by our model. The lighter blue area represents the degree of uncertainty, which grows wider the further we get on the x-axis."
   ]
  }
 ],
 "metadata": {
  "kernelspec": {
   "display_name": "Python 3",
   "language": "python",
   "name": "python3"
  },
  "language_info": {
   "codemirror_mode": {
    "name": "ipython",
    "version": 3
   },
   "file_extension": ".py",
   "mimetype": "text/x-python",
   "name": "python",
   "nbconvert_exporter": "python",
   "pygments_lexer": "ipython3",
   "version": "3.7.3"
  }
 },
 "nbformat": 4,
 "nbformat_minor": 2
}
